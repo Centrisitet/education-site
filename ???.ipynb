{
  "nbformat": 4,
  "nbformat_minor": 0,
  "metadata": {
    "colab": {
      "provenance": [],
      "authorship_tag": "ABX9TyO4uFxqcyyfqK/l2tgoHjln"
    },
    "kernelspec": {
      "name": "python3",
      "display_name": "Python 3"
    },
    "language_info": {
      "name": "python"
    }
  },
  "cells": [
    {
      "cell_type": "code",
      "execution_count": null,
      "metadata": {
        "id": "05iM7mVkPTzA"
      },
      "outputs": [],
      "source": [
        "import random\n",
        "import math\n",
        "\n",
        "\n",
        "class User():\n",
        "  def __init__(self, name = None, score = 0):\n",
        "    self.s = score\n",
        "    self.n = input('Введи свое имя: ')\n",
        "    \n",
        "  def add_score(self):\n",
        "    pass\n",
        "\n",
        "\n",
        "def get_random_quest(dif):\n",
        "  while True:\n",
        "    num1, num2 = random.randint(0, 1000), random.randint(0, 1000)\n",
        "    qw = [num1 + num2, num1 - num2]\n",
        "    if (num1 + num2) > dif:\n",
        "      continue\n",
        "    choice = random.choice(qw)\n",
        "    if choice == qw[0]:\n",
        "      return (num1, num2, choice)\n",
        "    else:\n",
        "      if num1 > dif or num2 > dif:\n",
        "        continue\n",
        "      else:\n",
        "        return (num1, num2, abs(choice))\n",
        "        break\n",
        "    \n",
        "  \n",
        "record = 0\n",
        "\n",
        "name = input('Введи свое имя: ')\n",
        "dif = int(input('До скольки будем считать? '))\n",
        "\n",
        "print(f\"Привет {name}. Сейчас порешаем примеры\")\n",
        "\n",
        "for i in range(10):\n",
        "  num1, num2, quest = get_random_quest(dif)\n",
        "  print('\\n')\n",
        "  if quest > num1 and quest > num2:\n",
        "    print(f'Сколько будет {num1} + {num2}?')\n",
        "  else:\n",
        "    if num1 > num2:\n",
        "      print(f'Сколько будет {num1} - {num2}?')\n",
        "    else: print(f'Сколько будет {num2} - {num1}?')\n",
        "\n",
        "  answer = int(input('Твой ответ: '))\n",
        "  if answer == quest:\n",
        "    record += 1\n",
        "    print('Молодец!')\n",
        "  else: print(f'Неправильно! Правильный ответ был {quest}')\n",
        "  \n",
        "\n",
        "print(f'\\nОтлично {name}! Тебе удалось заработать {record} очков')"
      ]
    },
    {
      "cell_type": "code",
      "source": [
        "import random\n",
        "\n",
        "alphabet = {\n",
        "    1: ['а', 'А'], \n",
        "    2: [\"б\", \"Б\"], \n",
        "    3: ['в', 'В'], \n",
        "    4: ['г', 'Г'], \n",
        "    5: ['д', 'Д'], \n",
        "    6: ['е', 'Е'], \n",
        "    7: ['ё', 'Ё'], \n",
        "    8: ['ж', 'Ж'], \n",
        "    9: ['з', 'З'], \n",
        "    10: ['и', 'И'], \n",
        "    11: ['й', 'Й'], \n",
        "    12: ['к', 'К'], \n",
        "    13: ['л', 'Л'], \n",
        "    14: ['м', 'М'], \n",
        "    15: ['н', 'Н'], \n",
        "    16: ['о', 'О'], \n",
        "    17: ['п', 'П'], \n",
        "    18: ['р', 'Р'], \n",
        "    19: ['с', 'М'], \n",
        "    20: ['т', 'Т'], \n",
        "    21: ['у', 'У'], \n",
        "    22: ['ф', 'Ф'], \n",
        "    23: ['х', 'Ч'], \n",
        "    24: ['ц', 'Ц'], \n",
        "    25: ['ч', 'Ч'], \n",
        "    26: ['ш', 'Ш'], \n",
        "    27: ['щ', 'Щ'], \n",
        "    28: ['ъ', 'Ъ'], \n",
        "    29: ['ы', 'Ы'],\n",
        "    30: ['ь', 'Ь'], \n",
        "    31: ['э', 'Э'], \n",
        "    32: ['ю', 'Ю'],\n",
        "    33: ['я','Я']\n",
        "    }\n",
        "\n",
        "def show_letter():\n",
        "  print(random.choice(alphabet.get(random.randint(1,33))))\n",
        "\n",
        "show_letter()"
      ],
      "metadata": {
        "colab": {
          "base_uri": "https://localhost:8080/"
        },
        "id": "DRCC92ZTet_r",
        "outputId": "a3f9ebbc-170a-4a20-a9b3-6ebf845a1681"
      },
      "execution_count": null,
      "outputs": [
        {
          "output_type": "stream",
          "name": "stdout",
          "text": [
            "ё\n"
          ]
        }
      ]
    }
  ]
}