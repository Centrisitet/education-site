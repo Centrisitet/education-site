{
  "nbformat": 4,
  "nbformat_minor": 0,
  "metadata": {
    "colab": {
      "provenance": [],
      "authorship_tag": "ABX9TyOMxBvOudvXw9JuiGWOcmlu",
      "include_colab_link": true
    },
    "kernelspec": {
      "name": "python3",
      "display_name": "Python 3"
    },
    "language_info": {
      "name": "python"
    }
  },
  "cells": [
    {
      "cell_type": "markdown",
      "metadata": {
        "id": "view-in-github",
        "colab_type": "text"
      },
      "source": [
        "<a href=\"https://colab.research.google.com/github/Centrisitet/education-site/blob/develop/text_to_video.ipynb\" target=\"_parent\"><img src=\"https://colab.research.google.com/assets/colab-badge.svg\" alt=\"Open In Colab\"/></a>"
      ]
    },
    {
      "cell_type": "code",
      "execution_count": null,
      "metadata": {
        "id": "-lMTZPZIM8dm"
      },
      "outputs": [],
      "source": [
        "import cv2\n",
        "import numpy as np\n",
        "from PIL import Image, ImageDraw, ImageFont\n",
        "from google.colab import files\n",
        "\n",
        "\n",
        "text = input('Введите текст: ')\n",
        "\n",
        "img = Image.new(mode=\"RGBA\", size=(100,100), color='black')\n",
        "\n",
        "draw = ImageDraw.Draw(img)\n",
        "\n",
        "textwidth, textheight = draw.textsize(text)\n",
        "width, height = img.size \n",
        "x=width/2-textwidth/2\n",
        "y=height/2-textheight/2\n",
        "\n",
        "frame_size = (100, 100)\n",
        "frame_rate = (width + textwidth)/3\n",
        "\n",
        "out = cv2.VideoWriter('output_video.avi',cv2.VideoWriter_fourcc(*'DIVX'), frame_rate, frame_size)\n",
        "\n",
        "for x in range(width, 0 - textwidth, -1):\n",
        "  img = Image.new(mode=\"RGBA\", size=(100,100), color='black')\n",
        "  draw = ImageDraw.Draw(img)\n",
        "  draw.text((x,y), text, align ='center', fill='DeepPink')\n",
        "  cv2_img = cv2.cvtColor(np.array(img), cv2.COLOR_RGB2BGR)\n",
        "  out.write(cv2_img)\n",
        "  #img.show()\n",
        "\n",
        "out.release()\n",
        "\n",
        "\n",
        "uploaded = files.download('output_video.avi')\n",
        "\n",
        "\n",
        "\n"
      ]
    }
  ]
}